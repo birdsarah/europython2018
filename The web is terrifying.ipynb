{
 "cells": [
  {
   "cell_type": "markdown",
   "metadata": {
    "slideshow": {
     "slide_type": "slide"
    }
   },
   "source": [
    "# The Web is Terrifying! \n",
    "### Using the PyData stack to spy on the spies.\n",
    "\n",
    "#### Sarah Bird - @birdsarah\n",
    "\n",
    "![mozilla](imgs/mozilla.svg) ![bokeh](imgs/bokeh.png)"
   ]
  },
  {
   "cell_type": "markdown",
   "metadata": {
    "slideshow": {
     "slide_type": "slide"
    }
   },
   "source": [
    "![mozilla](imgs/mozilla.svg) \n",
    "\n",
    "* We are a non-profit\n",
    "* Our mission is a healthy internet - [Mozilla Manifesto](https://www.mozilla.org/en-US/about/manifesto/)\n",
    "* We make Firefox - and lots of other awesome things too\n",
    "\n",
    "\n",
    "![firefox](imgs/firefox.png) ![mdn](imgs/mdn.svg) ![pocket](imgs/pocket.png)"
   ]
  },
  {
   "cell_type": "markdown",
   "metadata": {
    "slideshow": {
     "slide_type": "slide"
    }
   },
   "source": [
    "![numfocus](imgs/numfocus.png) ![pydata](imgs/pydata.png)\n",
    "\n",
    "![numfocus1](imgs/numfocus1.png)\n",
    "![numfocus2](imgs/numfocus2.png)\n"
   ]
  },
  {
   "cell_type": "markdown",
   "metadata": {
    "slideshow": {
     "slide_type": "slide"
    }
   },
   "source": [
    "Today we'll see:\n",
    "\n",
    "* jupyter\n",
    "* pandas\n",
    "* bokeh\n",
    "* dask\n",
    "* scikit-learn\n",
    "\n",
    "Also a little pyspark and networkx.\n",
    "\n",
    "Shout out to conda and numpy."
   ]
  },
  {
   "cell_type": "markdown",
   "metadata": {
    "slideshow": {
     "slide_type": "notes"
    }
   },
   "source": [
    "Santa"
   ]
  },
  {
   "cell_type": "markdown",
   "metadata": {
    "slideshow": {
     "slide_type": "slide"
    }
   },
   "source": [
    "![eyes](imgs/eyes-scary.jpg)"
   ]
  },
  {
   "cell_type": "markdown",
   "metadata": {
    "slideshow": {
     "slide_type": "slide"
    }
   },
   "source": [
    "### Cookies \n",
    "\n",
    "> An HTTP cookie is a small piece of data that a\n",
    "server sends to the user's web browser. The browser may store it and send it back with the next request to the same server.  \n",
    "\n",
    "<cite>[developer.mozilla.org/en-US/docs/Web/HTTP/Cookies](https://developer.mozilla.org/en-US/docs/Web/HTTP/Cookies)</cite>\n"
   ]
  },
  {
   "cell_type": "markdown",
   "metadata": {
    "slideshow": {
     "slide_type": "fragment"
    }
   },
   "source": [
    "```\n",
    "> tmpPersistentuserId\n",
    "> 43038346ae23c38666a69e44f980f244\n",
    "> haaretz.com\n",
    "```"
   ]
  },
  {
   "cell_type": "markdown",
   "metadata": {
    "slideshow": {
     "slide_type": "fragment"
    }
   },
   "source": [
    "[Let's take a look](http://localhost:8888/notebooks/notebooks/cookie_pileup.ipynb)"
   ]
  },
  {
   "cell_type": "markdown",
   "metadata": {
    "slideshow": {
     "slide_type": "slide"
    }
   },
   "source": [
    "### Cookies\n",
    "\n",
    "> \"A cookie is a small file placed onto your device that enables features and functionality\n",
    "\n",
    "<cite>Paraphrase of most corporate cookie policies</cite>"
   ]
  },
  {
   "cell_type": "markdown",
   "metadata": {
    "slideshow": {
     "slide_type": "fragment"
    }
   },
   "source": [
    "> and enables us, and others we enable, to compile your entire browsing history"
   ]
  },
  {
   "cell_type": "markdown",
   "metadata": {
    "slideshow": {
     "slide_type": "slide"
    }
   },
   "source": [
    "### Do you care?\n",
    "\n",
    "* Do you care who knows your browsing history?\n",
    "* What about browsing history + location + tv + fridge + drone feeds?\n",
    "* What about if that data is is stolen?\n",
    "* What if you paid 20% more for a service than your friend?"
   ]
  },
  {
   "cell_type": "markdown",
   "metadata": {
    "slideshow": {
     "slide_type": "fragment"
    }
   },
   "source": [
    "Your browsing history can be, and is, connected to your real-world identity"
   ]
  },
  {
   "cell_type": "markdown",
   "metadata": {
    "slideshow": {
     "slide_type": "fragment"
    }
   },
   "source": [
    "twitter, reddit, github, instagram, linkedin, ..."
   ]
  },
  {
   "cell_type": "markdown",
   "metadata": {
    "slideshow": {
     "slide_type": "slide"
    }
   },
   "source": [
    "![identity](imgs/identity-resolution.png)"
   ]
  },
  {
   "cell_type": "markdown",
   "metadata": {
    "slideshow": {
     "slide_type": "slide"
    }
   },
   "source": [
    "### cookies - browsing history\n",
    "\n",
    "Okay, I'll disable cookies....."
   ]
  },
  {
   "cell_type": "markdown",
   "metadata": {
    "slideshow": {
     "slide_type": "fragment"
    }
   },
   "source": [
    "### browsing history - identity\n",
    "\n",
    "Anything else giving up our browsing history?"
   ]
  },
  {
   "cell_type": "markdown",
   "metadata": {
    "slideshow": {
     "slide_type": "slide"
    }
   },
   "source": [
    "The language we all love to hate"
   ]
  },
  {
   "cell_type": "markdown",
   "metadata": {
    "slideshow": {
     "slide_type": "fragment"
    }
   },
   "source": [
    "# JavaScript"
   ]
  },
  {
   "cell_type": "markdown",
   "metadata": {
    "slideshow": {
     "slide_type": "fragment"
    }
   },
   "source": [
    "<small>\n",
    "    there are lots of other things too - web beacons, ISPs, mobile apps, the NSA - but no time today\n",
    "</small>"
   ]
  },
  {
   "cell_type": "markdown",
   "metadata": {
    "slideshow": {
     "slide_type": "slide"
    }
   },
   "source": [
    "![team](imgs/team-1.png)\n",
    "![team](imgs/team-2.png)\n",
    "![team](imgs/team-3.jpg)\n",
    "![team](imgs/team-4.jpg)\n",
    "![team](imgs/team-5.jpg)\n",
    "\n",
    "### Systems Research Group"
   ]
  },
  {
   "cell_type": "markdown",
   "metadata": {
    "slideshow": {
     "slide_type": "slide"
    }
   },
   "source": [
    "### OverScripted\n",
    "\n",
    "* Crawl in November 2017\n",
    "* 1 million locations visited\n",
    "* 131m javascript calls recorded\n",
    "\n",
    "[hacks.mozilla.org/2018/06/overscripted-digging-into-javascript-execution-at-scale](https://hacks.mozilla.org/2018/06/overscripted-digging-into-javascript-execution-at-scale)"
   ]
  },
  {
   "cell_type": "markdown",
   "metadata": {
    "slideshow": {
     "slide_type": "slide"
    }
   },
   "source": [
    "```python\n",
    ">>> import dask.dataframe as dd\n",
    ">>> df = dd.read_parquet('../cache_new.parquet/')\n",
    ">>> df.dtypes\n",
    "\n",
    "arguments          object\n",
    "call_id            object\n",
    "call_stack         object\n",
    "crawl_id            int64\n",
    "func_name          object\n",
    "in_iframe            bool\n",
    "location           object  <- where we visited\n",
    "operation          object\n",
    "script_col         object\n",
    "script_line        object\n",
    "script_loc_eval    object\n",
    "script_url         object  <- the script that was loaded\n",
    "symbol             object  <- the JavaScript API call e.g. window.navigator.userAgent\n",
    "time_stamp         object\n",
    "value              object\n",
    "dtype: object\n",
    "```"
   ]
  },
  {
   "cell_type": "markdown",
   "metadata": {
    "slideshow": {
     "slide_type": "slide"
    }
   },
   "source": [
    "[First aha moment](http://localhost:5006/location_to_script_scale_calls)"
   ]
  },
  {
   "cell_type": "markdown",
   "metadata": {
    "slideshow": {
     "slide_type": "slide"
    }
   },
   "source": [
    "# What are all the javascript calls?\n",
    "\n",
    "[panopticlick.eff.org](https://panopticlick.eff.org)"
   ]
  },
  {
   "cell_type": "markdown",
   "metadata": {
    "slideshow": {
     "slide_type": "slide"
    }
   },
   "source": [
    "### Canvas fingerprinting\n",
    "\n",
    "[fingerprint2.js](https://github.com/Valve/fingerprintjs2/blob/master/fingerprint2.js#L772)"
   ]
  },
  {
   "cell_type": "markdown",
   "metadata": {
    "slideshow": {
     "slide_type": "fragment"
    }
   },
   "source": [
    "[But does this really happen?](http://localhost:8888/notebooks/notebooks/canvas-fingerprinting.ipynb)"
   ]
  },
  {
   "cell_type": "markdown",
   "metadata": {
    "slideshow": {
     "slide_type": "slide"
    }
   },
   "source": [
    "### Can we be smarter?\n",
    "\n",
    "[I promised you some scikit-learn](http://localhost:8888/notebooks/notebooks/clustering.ipynb)"
   ]
  },
  {
   "cell_type": "markdown",
   "metadata": {
    "slideshow": {
     "slide_type": "slide"
    }
   },
   "source": [
    "### Do you have your own questions?\n",
    "\n",
    "### Can you do better?"
   ]
  },
  {
   "cell_type": "markdown",
   "metadata": {
    "slideshow": {
     "slide_type": "slide"
    }
   },
   "source": [
    "### ![gh](imgs/github_sm.png) mozilla/Overscripted-Data-Analysis-Challenge\n",
    "\n",
    "![mozfest](imgs/mozfest.png)\n",
    "\n",
    "Win trip and tickets to [mozillafestival.org](https://mozillafestival.org/)"
   ]
  }
 ],
 "metadata": {
  "celltoolbar": "Slideshow",
  "kernelspec": {
   "display_name": "Python 3",
   "language": "python",
   "name": "python3"
  },
  "language_info": {
   "codemirror_mode": {
    "name": "ipython",
    "version": 3
   },
   "file_extension": ".py",
   "mimetype": "text/x-python",
   "name": "python",
   "nbconvert_exporter": "python",
   "pygments_lexer": "ipython3",
   "version": "3.6.5"
  }
 },
 "nbformat": 4,
 "nbformat_minor": 2
}
