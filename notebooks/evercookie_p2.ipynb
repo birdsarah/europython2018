{
 "cells": [
  {
   "cell_type": "code",
   "execution_count": 1,
   "metadata": {
    "slideshow": {
     "slide_type": "skip"
    }
   },
   "outputs": [],
   "source": [
    "import os\n",
    "import pandas as pd\n",
    "import sqlite3"
   ]
  },
  {
   "cell_type": "code",
   "execution_count": 2,
   "metadata": {
    "slideshow": {
     "slide_type": "slide"
    }
   },
   "outputs": [
    {
     "data": {
      "text/plain": [
       "['cookies.sqlite',\n",
       " 'kinto.sqlite',\n",
       " 'storage.sqlite',\n",
       " 'content-prefs.sqlite',\n",
       " 'webappsstore.sqlite',\n",
       " 'places.sqlite',\n",
       " 'favicons.sqlite',\n",
       " 'permissions.sqlite',\n",
       " 'formhistory.sqlite']"
      ]
     },
     "execution_count": 2,
     "metadata": {},
     "output_type": "execute_result"
    }
   ],
   "source": [
    "firefox_profile_dir = '/home/bird/.mozilla/firefox/aldw2rkq.test_sync/'  # NEW PROFILE\n",
    "[x for x in os.listdir(firefox_profile_dir) if x.endswith('.sqlite')]"
   ]
  },
  {
   "cell_type": "code",
   "execution_count": 3,
   "metadata": {
    "slideshow": {
     "slide_type": "slide"
    }
   },
   "outputs": [],
   "source": [
    "cookies_file = '{}/cookies.sqlite'.format(firefox_profile_dir)\n",
    "cookies_db = sqlite3.connect(cookies_file)"
   ]
  },
  {
   "cell_type": "code",
   "execution_count": 4,
   "metadata": {
    "slideshow": {
     "slide_type": "fragment"
    }
   },
   "outputs": [
    {
     "data": {
      "text/html": [
       "<div>\n",
       "<style scoped>\n",
       "    .dataframe tbody tr th:only-of-type {\n",
       "        vertical-align: middle;\n",
       "    }\n",
       "\n",
       "    .dataframe tbody tr th {\n",
       "        vertical-align: top;\n",
       "    }\n",
       "\n",
       "    .dataframe thead th {\n",
       "        text-align: right;\n",
       "    }\n",
       "</style>\n",
       "<table border=\"1\" class=\"dataframe\">\n",
       "  <thead>\n",
       "    <tr style=\"text-align: right;\">\n",
       "      <th></th>\n",
       "      <th>id</th>\n",
       "      <th>baseDomain</th>\n",
       "      <th>originAttributes</th>\n",
       "      <th>name</th>\n",
       "      <th>value</th>\n",
       "      <th>host</th>\n",
       "      <th>path</th>\n",
       "      <th>expiry</th>\n",
       "      <th>lastAccessed</th>\n",
       "      <th>creationTime</th>\n",
       "      <th>isSecure</th>\n",
       "      <th>isHttpOnly</th>\n",
       "      <th>inBrowserElement</th>\n",
       "      <th>sameSite</th>\n",
       "    </tr>\n",
       "  </thead>\n",
       "  <tbody>\n",
       "    <tr>\n",
       "      <th>0</th>\n",
       "      <td>1</td>\n",
       "      <td>discordapp.com</td>\n",
       "      <td></td>\n",
       "      <td>__cfduid</td>\n",
       "      <td>hideme</td>\n",
       "      <td>.discordapp.com</td>\n",
       "      <td>/</td>\n",
       "      <td>1559507656</td>\n",
       "      <td>1527971656527690</td>\n",
       "      <td>1527971656527475</td>\n",
       "      <td>0</td>\n",
       "      <td>1</td>\n",
       "      <td>0</td>\n",
       "      <td>0</td>\n",
       "    </tr>\n",
       "    <tr>\n",
       "      <th>1</th>\n",
       "      <td>2</td>\n",
       "      <td>wikipedia.org</td>\n",
       "      <td></td>\n",
       "      <td>WMF-Last-Access</td>\n",
       "      <td>hideme</td>\n",
       "      <td>www.wikipedia.org</td>\n",
       "      <td>/</td>\n",
       "      <td>1530705600</td>\n",
       "      <td>1527971656595419</td>\n",
       "      <td>1527971656595419</td>\n",
       "      <td>1</td>\n",
       "      <td>1</td>\n",
       "      <td>0</td>\n",
       "      <td>0</td>\n",
       "    </tr>\n",
       "    <tr>\n",
       "      <th>2</th>\n",
       "      <td>3</td>\n",
       "      <td>wikipedia.org</td>\n",
       "      <td></td>\n",
       "      <td>WMF-Last-Access-Global</td>\n",
       "      <td>hideme</td>\n",
       "      <td>.wikipedia.org</td>\n",
       "      <td>/</td>\n",
       "      <td>1530705600</td>\n",
       "      <td>1527971656595551</td>\n",
       "      <td>1527971656595551</td>\n",
       "      <td>1</td>\n",
       "      <td>1</td>\n",
       "      <td>0</td>\n",
       "      <td>0</td>\n",
       "    </tr>\n",
       "    <tr>\n",
       "      <th>3</th>\n",
       "      <td>4</td>\n",
       "      <td>riot.im</td>\n",
       "      <td></td>\n",
       "      <td>__cfduid</td>\n",
       "      <td>hideme</td>\n",
       "      <td>.riot.im</td>\n",
       "      <td>/</td>\n",
       "      <td>1559507656</td>\n",
       "      <td>1527971656608187</td>\n",
       "      <td>1527971656608187</td>\n",
       "      <td>0</td>\n",
       "      <td>1</td>\n",
       "      <td>0</td>\n",
       "      <td>0</td>\n",
       "    </tr>\n",
       "    <tr>\n",
       "      <th>4</th>\n",
       "      <td>5</td>\n",
       "      <td>creativecommons.org</td>\n",
       "      <td></td>\n",
       "      <td>__cfduid</td>\n",
       "      <td>hideme</td>\n",
       "      <td>.creativecommons.org</td>\n",
       "      <td>/</td>\n",
       "      <td>1559507656</td>\n",
       "      <td>1527971656878179</td>\n",
       "      <td>1527971656878179</td>\n",
       "      <td>0</td>\n",
       "      <td>1</td>\n",
       "      <td>0</td>\n",
       "      <td>0</td>\n",
       "    </tr>\n",
       "    <tr>\n",
       "      <th>5</th>\n",
       "      <td>10</td>\n",
       "      <td>mozilla.org</td>\n",
       "      <td></td>\n",
       "      <td>_gat_UA-36116321-1</td>\n",
       "      <td>hideme</td>\n",
       "      <td>.mozilla.org</td>\n",
       "      <td>/</td>\n",
       "      <td>1527971719</td>\n",
       "      <td>1527971659515848</td>\n",
       "      <td>1527971659515848</td>\n",
       "      <td>0</td>\n",
       "      <td>0</td>\n",
       "      <td>0</td>\n",
       "      <td>0</td>\n",
       "    </tr>\n",
       "    <tr>\n",
       "      <th>6</th>\n",
       "      <td>11</td>\n",
       "      <td>mozilla.org</td>\n",
       "      <td></td>\n",
       "      <td>_ga</td>\n",
       "      <td>hideme</td>\n",
       "      <td>.mozilla.org</td>\n",
       "      <td>/</td>\n",
       "      <td>1591043663</td>\n",
       "      <td>1527971663663046</td>\n",
       "      <td>1527971659304355</td>\n",
       "      <td>0</td>\n",
       "      <td>0</td>\n",
       "      <td>0</td>\n",
       "      <td>0</td>\n",
       "    </tr>\n",
       "    <tr>\n",
       "      <th>7</th>\n",
       "      <td>12</td>\n",
       "      <td>mozilla.org</td>\n",
       "      <td></td>\n",
       "      <td>_gid</td>\n",
       "      <td>hideme</td>\n",
       "      <td>.mozilla.org</td>\n",
       "      <td>/</td>\n",
       "      <td>1528058063</td>\n",
       "      <td>1527971663663238</td>\n",
       "      <td>1527971659304481</td>\n",
       "      <td>0</td>\n",
       "      <td>0</td>\n",
       "      <td>0</td>\n",
       "      <td>0</td>\n",
       "    </tr>\n",
       "    <tr>\n",
       "      <th>8</th>\n",
       "      <td>13</td>\n",
       "      <td>localhost</td>\n",
       "      <td></td>\n",
       "      <td>_xsrf</td>\n",
       "      <td>hideme</td>\n",
       "      <td>localhost</td>\n",
       "      <td>/</td>\n",
       "      <td>1530563665</td>\n",
       "      <td>1527971798133646</td>\n",
       "      <td>1527971665583422</td>\n",
       "      <td>0</td>\n",
       "      <td>0</td>\n",
       "      <td>0</td>\n",
       "      <td>0</td>\n",
       "    </tr>\n",
       "  </tbody>\n",
       "</table>\n",
       "</div>"
      ],
      "text/plain": [
       "   id           baseDomain originAttributes                    name   value  \\\n",
       "0   1       discordapp.com                                 __cfduid  hideme   \n",
       "1   2        wikipedia.org                          WMF-Last-Access  hideme   \n",
       "2   3        wikipedia.org                   WMF-Last-Access-Global  hideme   \n",
       "3   4              riot.im                                 __cfduid  hideme   \n",
       "4   5  creativecommons.org                                 __cfduid  hideme   \n",
       "5  10          mozilla.org                       _gat_UA-36116321-1  hideme   \n",
       "6  11          mozilla.org                                      _ga  hideme   \n",
       "7  12          mozilla.org                                     _gid  hideme   \n",
       "8  13            localhost                                    _xsrf  hideme   \n",
       "\n",
       "                   host path      expiry      lastAccessed      creationTime  \\\n",
       "0       .discordapp.com    /  1559507656  1527971656527690  1527971656527475   \n",
       "1     www.wikipedia.org    /  1530705600  1527971656595419  1527971656595419   \n",
       "2        .wikipedia.org    /  1530705600  1527971656595551  1527971656595551   \n",
       "3              .riot.im    /  1559507656  1527971656608187  1527971656608187   \n",
       "4  .creativecommons.org    /  1559507656  1527971656878179  1527971656878179   \n",
       "5          .mozilla.org    /  1527971719  1527971659515848  1527971659515848   \n",
       "6          .mozilla.org    /  1591043663  1527971663663046  1527971659304355   \n",
       "7          .mozilla.org    /  1528058063  1527971663663238  1527971659304481   \n",
       "8             localhost    /  1530563665  1527971798133646  1527971665583422   \n",
       "\n",
       "   isSecure  isHttpOnly  inBrowserElement  sameSite  \n",
       "0         0           1                 0         0  \n",
       "1         1           1                 0         0  \n",
       "2         1           1                 0         0  \n",
       "3         0           1                 0         0  \n",
       "4         0           1                 0         0  \n",
       "5         0           0                 0         0  \n",
       "6         0           0                 0         0  \n",
       "7         0           0                 0         0  \n",
       "8         0           0                 0         0  "
      ]
     },
     "execution_count": 4,
     "metadata": {},
     "output_type": "execute_result"
    }
   ],
   "source": [
    "df = pd.read_sql('SELECT * FROM moz_cookies', cookies_db)\n",
    "df['value'] = 'hideme'\n",
    "df"
   ]
  },
  {
   "cell_type": "markdown",
   "metadata": {
    "slideshow": {
     "slide_type": "slide"
    }
   },
   "source": [
    "# Go to LA Times...."
   ]
  },
  {
   "cell_type": "code",
   "execution_count": 11,
   "metadata": {
    "slideshow": {
     "slide_type": "slide"
    }
   },
   "outputs": [
    {
     "data": {
      "text/html": [
       "<div>\n",
       "<style scoped>\n",
       "    .dataframe tbody tr th:only-of-type {\n",
       "        vertical-align: middle;\n",
       "    }\n",
       "\n",
       "    .dataframe tbody tr th {\n",
       "        vertical-align: top;\n",
       "    }\n",
       "\n",
       "    .dataframe thead th {\n",
       "        text-align: right;\n",
       "    }\n",
       "</style>\n",
       "<table border=\"1\" class=\"dataframe\">\n",
       "  <thead>\n",
       "    <tr style=\"text-align: right;\">\n",
       "      <th></th>\n",
       "      <th>id</th>\n",
       "      <th>baseDomain</th>\n",
       "      <th>originAttributes</th>\n",
       "      <th>name</th>\n",
       "      <th>value</th>\n",
       "      <th>host</th>\n",
       "      <th>path</th>\n",
       "      <th>expiry</th>\n",
       "      <th>lastAccessed</th>\n",
       "      <th>creationTime</th>\n",
       "      <th>isSecure</th>\n",
       "      <th>isHttpOnly</th>\n",
       "      <th>inBrowserElement</th>\n",
       "      <th>sameSite</th>\n",
       "    </tr>\n",
       "  </thead>\n",
       "  <tbody>\n",
       "  </tbody>\n",
       "</table>\n",
       "</div>"
      ],
      "text/plain": [
       "Empty DataFrame\n",
       "Columns: [id, baseDomain, originAttributes, name, value, host, path, expiry, lastAccessed, creationTime, isSecure, isHttpOnly, inBrowserElement, sameSite]\n",
       "Index: []"
      ]
     },
     "execution_count": 11,
     "metadata": {},
     "output_type": "execute_result"
    }
   ],
   "source": [
    "df = pd.read_sql('SELECT * FROM moz_cookies', cookies_db)\n",
    "df[df.value.str.contains('7620423c-7103-4edc-9aee-099c75141b87-tuct18c03dc')]"
   ]
  },
  {
   "cell_type": "markdown",
   "metadata": {
    "slideshow": {
     "slide_type": "fragment"
    }
   },
   "source": [
    "# Nothing there - yay!"
   ]
  },
  {
   "cell_type": "markdown",
   "metadata": {
    "slideshow": {
     "slide_type": "slide"
    }
   },
   "source": [
    "# ....but I hadn't clicked on a story yet"
   ]
  },
  {
   "cell_type": "code",
   "execution_count": 14,
   "metadata": {
    "slideshow": {
     "slide_type": "fragment"
    }
   },
   "outputs": [
    {
     "data": {
      "text/html": [
       "<div>\n",
       "<style scoped>\n",
       "    .dataframe tbody tr th:only-of-type {\n",
       "        vertical-align: middle;\n",
       "    }\n",
       "\n",
       "    .dataframe tbody tr th {\n",
       "        vertical-align: top;\n",
       "    }\n",
       "\n",
       "    .dataframe thead th {\n",
       "        text-align: right;\n",
       "    }\n",
       "</style>\n",
       "<table border=\"1\" class=\"dataframe\">\n",
       "  <thead>\n",
       "    <tr style=\"text-align: right;\">\n",
       "      <th></th>\n",
       "      <th>id</th>\n",
       "      <th>baseDomain</th>\n",
       "      <th>originAttributes</th>\n",
       "      <th>name</th>\n",
       "      <th>value</th>\n",
       "      <th>host</th>\n",
       "      <th>path</th>\n",
       "      <th>expiry</th>\n",
       "      <th>lastAccessed</th>\n",
       "      <th>creationTime</th>\n",
       "      <th>isSecure</th>\n",
       "      <th>isHttpOnly</th>\n",
       "      <th>inBrowserElement</th>\n",
       "      <th>sameSite</th>\n",
       "    </tr>\n",
       "  </thead>\n",
       "  <tbody>\n",
       "    <tr>\n",
       "      <th>81</th>\n",
       "      <td>308</td>\n",
       "      <td>taboola.com</td>\n",
       "      <td></td>\n",
       "      <td>t_gid</td>\n",
       "      <td>7620423c-7103-4edc-9aee-099c75141b87-tuct18c03dc</td>\n",
       "      <td>.taboola.com</td>\n",
       "      <td>/</td>\n",
       "      <td>1559508024</td>\n",
       "      <td>1527972024375659</td>\n",
       "      <td>1527972024375659</td>\n",
       "      <td>0</td>\n",
       "      <td>0</td>\n",
       "      <td>0</td>\n",
       "      <td>0</td>\n",
       "    </tr>\n",
       "    <tr>\n",
       "      <th>85</th>\n",
       "      <td>312</td>\n",
       "      <td>latimes.com</td>\n",
       "      <td></td>\n",
       "      <td>trc_cookie_storage</td>\n",
       "      <td>taboola%2520global%253Auser-id%3D7620423c-7103...</td>\n",
       "      <td>www.latimes.com</td>\n",
       "      <td>/</td>\n",
       "      <td>1559508024</td>\n",
       "      <td>1527972024498654</td>\n",
       "      <td>1527972024498654</td>\n",
       "      <td>0</td>\n",
       "      <td>0</td>\n",
       "      <td>0</td>\n",
       "      <td>0</td>\n",
       "    </tr>\n",
       "  </tbody>\n",
       "</table>\n",
       "</div>"
      ],
      "text/plain": [
       "     id   baseDomain originAttributes                name  \\\n",
       "81  308  taboola.com                                t_gid   \n",
       "85  312  latimes.com                   trc_cookie_storage   \n",
       "\n",
       "                                                value             host path  \\\n",
       "81   7620423c-7103-4edc-9aee-099c75141b87-tuct18c03dc     .taboola.com    /   \n",
       "85  taboola%2520global%253Auser-id%3D7620423c-7103...  www.latimes.com    /   \n",
       "\n",
       "        expiry      lastAccessed      creationTime  isSecure  isHttpOnly  \\\n",
       "81  1559508024  1527972024375659  1527972024375659         0           0   \n",
       "85  1559508024  1527972024498654  1527972024498654         0           0   \n",
       "\n",
       "    inBrowserElement  sameSite  \n",
       "81                 0         0  \n",
       "85                 0         0  "
      ]
     },
     "execution_count": 14,
     "metadata": {},
     "output_type": "execute_result"
    }
   ],
   "source": [
    "df = pd.read_sql('SELECT * FROM moz_cookies', cookies_db)\n",
    "df[df.value.str.contains('7620423c-7103-4edc-9aee-099c75141b87-tuct18c03dc')]"
   ]
  },
  {
   "cell_type": "markdown",
   "metadata": {
    "slideshow": {
     "slide_type": "slide"
    }
   },
   "source": [
    "Back (Ctrl + Shift + Tab)"
   ]
  }
 ],
 "metadata": {
  "celltoolbar": "Slideshow",
  "kernelspec": {
   "display_name": "Python 3",
   "language": "python",
   "name": "python3"
  },
  "language_info": {
   "codemirror_mode": {
    "name": "ipython",
    "version": 3
   },
   "file_extension": ".py",
   "mimetype": "text/x-python",
   "name": "python",
   "nbconvert_exporter": "python",
   "pygments_lexer": "ipython3",
   "version": "3.6.5"
  }
 },
 "nbformat": 4,
 "nbformat_minor": 2
}
